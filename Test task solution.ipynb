{
 "cells": [
  {
   "cell_type": "markdown",
   "metadata": {},
   "source": [
    "# Задание 1\n",
    "\n",
    "Напишите регулярное выражение для определения корректности автомобильного номера. Шаблон автомобильного номера: буква + три цифры + две буквы + две цифры. Используются 12 букв:  А, В, Е, К, М, Н, О, Р, С, Т, У и Х.\n"
   ]
  },
  {
   "cell_type": "markdown",
   "metadata": {},
   "source": [
    "$\\text{[АВЕКМНОРСТУХ]\\d{3}[АВЕКМНОРСТУХ]{2}\\d{2}}$\n",
    "\n",
    "Можно еще добавить проверку на регион, но чет будет выглядеть совсем противно"
   ]
  },
  {
   "cell_type": "markdown",
   "metadata": {},
   "source": [
    "# Задание 2\n",
    "Установите библиотеку NLTK. Скачайте корпус проекта Гутенберг: \n",
    "1. Постройте по любой книге кривую Ципфа (см. https://ru.wikipedia.org/wiki/Закон_Ципфа) и опишите, что показывает график\n",
    "2. Найдите топ-10 слов по частоте в выбранной книге\n",
    "3. Найдите топ-10 слов по частоте в выбранной книге без стоп-слов\n",
    "4. Посчитайте общее количество слов и количество уникальных слов в книге\n"
   ]
  },
  {
   "cell_type": "code",
   "execution_count": 14,
   "metadata": {
    "scrolled": true
   },
   "outputs": [
    {
     "data": {
      "text/plain": [
       "['austen-emma.txt',\n",
       " 'austen-persuasion.txt',\n",
       " 'austen-sense.txt',\n",
       " 'bible-kjv.txt',\n",
       " 'blake-poems.txt',\n",
       " 'bryant-stories.txt',\n",
       " 'burgess-busterbrown.txt',\n",
       " 'carroll-alice.txt',\n",
       " 'chesterton-ball.txt',\n",
       " 'chesterton-brown.txt',\n",
       " 'chesterton-thursday.txt',\n",
       " 'edgeworth-parents.txt',\n",
       " 'melville-moby_dick.txt',\n",
       " 'milton-paradise.txt',\n",
       " 'shakespeare-caesar.txt',\n",
       " 'shakespeare-hamlet.txt',\n",
       " 'shakespeare-macbeth.txt',\n",
       " 'whitman-leaves.txt']"
      ]
     },
     "execution_count": 14,
     "metadata": {},
     "output_type": "execute_result"
    }
   ],
   "source": [
    "import nltk\n",
    "import numpy as np\n",
    "from nltk.corpus import gutenberg\n",
    "\n",
    "gutenberg.fileids()"
   ]
  },
  {
   "cell_type": "markdown",
   "metadata": {},
   "source": [
    "Руками чистить текст от всяких левых символов совсем чет не хочется, поэтому используем CountVectorizer, он и к регистру приводит, и мусор удаляет"
   ]
  },
  {
   "cell_type": "code",
   "execution_count": 158,
   "metadata": {},
   "outputs": [
    {
     "name": "stdout",
     "output_type": "stream",
     "text": [
      "['!' '!)' \"'\" ... 'zeal' 'zealous' 'zealously']\n"
     ]
    }
   ],
   "source": [
    "from sklearn.feature_extraction.text  import CountVectorizer\n",
    "\n",
    "words = gutenberg.words('bible-kjv.txt')\n",
    "print(np.sort(np.unique(words)))\n",
    "cv = CountVectorizer().fit(words)\n",
    "count = cv.transform(words)\n",
    "summ = count.sum(axis=0).reshape(-1, 1)\n",
    "\n",
    "n_words = summ.sum()\n",
    "n_unique = count.shape[1]\n",
    "\n",
    "count_dict = {k : v[0, 0] for k, v in zip(cv.get_feature_names(), summ)}\n",
    "count_dict = {k : v for k, v in sorted(count_dict.items(), key=lambda item: -item[1])}"
   ]
  },
  {
   "cell_type": "markdown",
   "metadata": {},
   "source": [
    "Нарисуем еще долю самых частых 10 слов относительно первого, а то по общей картине не все понятно"
   ]
  },
  {
   "cell_type": "code",
   "execution_count": 159,
   "metadata": {
    "scrolled": false
   },
   "outputs": [
    {
     "data": {
      "image/png": "[encoded data removed]",
      "text/plain": [
       "<Figure size 432x288 with 1 Axes>"
      ]
     },
     "metadata": {
      "needs_background": "light"
     },
     "output_type": "display_data"
    },
    {
     "data": {
      "image/png": "[encoded data removed]",
      "text/plain": [
       "<Figure size 432x288 with 1 Axes>"
      ]
     },
     "metadata": {
      "needs_background": "light"
     },
     "output_type": "display_data"
    }
   ],
   "source": [
    "import matplotlib.pyplot as plt\n",
    "\n",
    "sorted_val = np.sort(summ, axis=0)[::-1]\n",
    "\n",
    "plt.title('Кривая Ципфа')\n",
    "plt.plot(np.arange(len(count_dict)), sorted_val)\n",
    "plt.xlabel('Порядковый номер слова по убыванию')\n",
    "plt.ylabel('Количество вхождений')\n",
    "plt.show()\n",
    "\n",
    "plt.title('Доля первых 10 слов')\n",
    "plt.plot(np.arange(10), (sorted_val / sorted_val[0])[:10])\n",
    "plt.xlabel('Порядковый номер слова по убыванию')\n",
    "plt.ylabel('Доля n-ого слова')\n",
    "plt.show()"
   ]
  },
  {
   "cell_type": "code",
   "execution_count": 160,
   "metadata": {},
   "outputs": [
    {
     "name": "stdout",
     "output_type": "stream",
     "text": [
      "Отношение частоты: 1.0; 1/n: 1.0\n",
      "Отношение частоты: 0.807; 1/n: 0.5\n",
      "Отношение частоты: 0.542; 1/n: 0.333\n",
      "Отношение частоты: 0.212; 1/n: 0.25\n",
      "Отношение частоты: 0.202; 1/n: 0.2\n",
      "Отношение частоты: 0.198; 1/n: 0.167\n",
      "Отношение частоты: 0.163; 1/n: 0.143\n",
      "Отношение частоты: 0.154; 1/n: 0.125\n",
      "Отношение частоты: 0.141; 1/n: 0.111\n",
      "Отношение частоты: 0.14; 1/n: 0.1\n"
     ]
    }
   ],
   "source": [
    "for i, v in enumerate(list(count_dict.values())[:10]):\n",
    "    print('Отношение частоты:', str(np.round(v / list(count_dict.values())[0], 3)) + '; 1/n:', np.round(1 / (i + 1), 3))"
   ]
  },
  {
   "cell_type": "markdown",
   "metadata": {},
   "source": [
    "Ну можно заметить, что в целом закон Ципфа выполняется, частота слов действительно убывает пропорционально их порядковому номеру."
   ]
  },
  {
   "cell_type": "code",
   "execution_count": 161,
   "metadata": {},
   "outputs": [
    {
     "name": "stdout",
     "output_type": "stream",
     "text": [
      "10 самых популярных слов: \n",
      "['the', 'and', 'of', 'to', 'that', 'in', 'he', 'shall', 'unto', 'for']\n"
     ]
    }
   ],
   "source": [
    "print('10 самых популярных слов: ')\n",
    "print(list(count_dict.keys())[:10])"
   ]
  },
  {
   "cell_type": "code",
   "execution_count": 162,
   "metadata": {},
   "outputs": [
    {
     "name": "stdout",
     "output_type": "stream",
     "text": [
      "10 самых популярных слов без стоп-слов: \n",
      "['shall', 'unto', 'lord', 'thou', 'thy', 'god', 'said', 'ye', 'thee', 'man']\n"
     ]
    }
   ],
   "source": [
    "cv = CountVectorizer(stop_words='english').fit(words)\n",
    "count = cv.transform(words)\n",
    "summ = count.sum(axis=0).reshape(-1, 1)\n",
    "\n",
    "count_dict = {k : v[0, 0] for k, v in zip(cv.get_feature_names(), summ)}\n",
    "count_dict = {k : v for k, v in sorted(count_dict.items(), key=lambda item: -item[1])}\n",
    "\n",
    "print('10 самых популярных слов без стоп-слов: ')\n",
    "print(list(count_dict.keys())[:10])"
   ]
  },
  {
   "cell_type": "code",
   "execution_count": 163,
   "metadata": {},
   "outputs": [
    {
     "name": "stdout",
     "output_type": "stream",
     "text": [
      "Всего слов: 812281, уникальных: 12731\n"
     ]
    }
   ],
   "source": [
    "print('Всего слов: {}, уникальных: {}'.format(n_words, n_unique))"
   ]
  },
  {
   "cell_type": "markdown",
   "metadata": {},
   "source": [
    "Но тут мы считаем только те слова, которые CountVectorizer посчитал словами, кажется он нормальный"
   ]
  },
  {
   "cell_type": "markdown",
   "metadata": {},
   "source": [
    "# Задание 3\n",
    "Подчеркните термины, которые знаете в списке и дайте определение трем терминам:\n",
    "\n",
    "$\\underline{Word2vec}$, $\\underline{bert}$, $\\underline{glove}$, $\\underline{elmo}$, $\\underline{syntax \\; parsing}$, $\\underline{pos \\; tagging}$, $\\underline{dependency \\; parsing}$, $\\underline{word \\; embedding}$, $\\underline{word \\; sense \\; disambiguation}$, $\\underline{sentiment \\; classification}$, $\\underline{question \\; answering}$, $\\underline{squad}$, named entity recognition, $\\underline{machine \\; translation}$\n",
    "\n",
    "Word sense disambiguation — определение, какое именно значение слова используется, для слов с несколькими значениями\n",
    "\n",
    "Sentiment  classification — определение эмоциональной окраски предложения/текста\n",
    "\n",
    "Bert — модификация трансформера, в которой используется двунаправленность, а также 15% слов заменяются масками, чтобы сетка училась восстанавливать эти слова по контексту. Используется в основном для ответа на вопросы про связь двух предложений."
   ]
  },
  {
   "cell_type": "markdown",
   "metadata": {},
   "source": [
    "# Задание 4\n",
    "Допустим, вы разрабатываете поисковую систему или диалоговую систему. Пользователь может написать текст на любом языке. Задача вашей системы – определить язык и ответить пользователю. Остановимся на задаче определения языка. Как бы вы ее формально сформулировали? Предложите алгоритм определения языка, какие данные вам могут понадобится, какие ресурсы?\n"
   ]
  },
  {
   "cell_type": "markdown",
   "metadata": {},
   "source": [
    "Не знаю насколько формально, но пусть будет так. Задача определить, какому алфавиту принадлежат символы и в каком языке есть написанные слова.\n",
    "\n"
   ]
  },
  {
   "cell_type": "markdown",
   "metadata": {},
   "source": [
    "Самый простой способ: возьмем все словари, которые нам доступны, и будем искать максимальное вхождение слов в предложении в этот словарь.\n",
    "\n",
    "Можно дополнить это n-граммами, средней длиной слов, средней длиной предложений, какой-нибудь частотный анализ символов\n",
    "\n",
    "Другой вариант, использовать ДЛ. Можно попробовать составлять эмбеддинги для вообще всех слов, чтобы у слов из одного языка были похожие эмбеддинги, и брать минимум по расстояниям до языков. Тут можно попробовать уже разбить по языковым группам, например намутить разную длину для разных групп, чтобы искать в меньшем пространстве.\n",
    "\n",
    "Наверно можно попробовать упороться в что-то еще более НЛПшное, но я без подсказок не придумаю сейчас такое."
   ]
  },
  {
   "cell_type": "markdown",
   "metadata": {},
   "source": []
  },
  {
   "cell_type": "code",
   "execution_count": null,
   "metadata": {},
   "outputs": [],
   "source": []
  },
  {
   "cell_type": "code",
   "execution_count": null,
   "metadata": {},
   "outputs": [],
   "source": []
  },
  {
   "cell_type": "code",
   "execution_count": null,
   "metadata": {},
   "outputs": [],
   "source": []
  }
 ],
 "metadata": {
  "kernelspec": {
   "display_name": "Python 3",
   "language": "python",
   "name": "python3"
  },
  "language_info": {
   "codemirror_mode": {
    "name": "ipython",
    "version": 3
   },
   "file_extension": ".py",
   "mimetype": "text/x-python",
   "name": "python",
   "nbconvert_exporter": "python",
   "pygments_lexer": "ipython3",
   "version": "3.6.9"
  }
 },
 "nbformat": 4,
 "nbformat_minor": 2
}
